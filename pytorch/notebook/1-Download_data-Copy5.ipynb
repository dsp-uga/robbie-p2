{
 "cells": [
  {
   "cell_type": "markdown",
   "metadata": {},
   "source": [
    "### Step 1 download all images"
   ]
  },
  {
   "cell_type": "code",
   "execution_count": 1,
   "metadata": {},
   "outputs": [],
   "source": [
    "import pandas as pd\n",
    "import requests\n",
    "import matplotlib.pyplot as plt\n",
    "import matplotlib.image as mpimg\n",
    "from PIL import Image\n",
    "import numpy as np\n",
    "import scipy.misc\n",
    "import matplotlib\n",
    "import shutil\n",
    "import cv2, wget"
   ]
  },
  {
   "cell_type": "code",
   "execution_count": 2,
   "metadata": {},
   "outputs": [],
   "source": [
    "# data_X_small_train = pd.read_csv(\"../data/X_small_train.csv\")\n",
    "# data_X_small_test = pd.read_csv(\"../data/X_small_test.csv\")\n",
    "# data_X_train = pd.read_csv(\"../data/X_train.csv\")\n",
    "#data_X_a_test = pd.read_csv(\"../data/Xa_test.csv\")\n",
    "data_X_b_test = pd.read_csv(\"../data/Xb_test.csv\")\n",
    "#data_X_c_test = pd.read_csv(\"../data/Xc_test.csv\")"
   ]
  },
  {
   "cell_type": "code",
   "execution_count": 3,
   "metadata": {},
   "outputs": [],
   "source": [
    "url_base = \"https://storage.googleapis.com/uga-dsp/project2/images/\""
   ]
  },
  {
   "cell_type": "code",
   "execution_count": 32,
   "metadata": {},
   "outputs": [],
   "source": [
    "import sys\n",
    "from os import path\n",
    "import glob\n",
    "\n",
    "def image_downloader(df, url_base, dest_dir):\n",
    "    failed_times = 0 \n",
    "    count = 0\n",
    "    data_count = 0\n",
    "    exist_count = 0\n",
    "    image_set = set()\n",
    "    for index, row in df.iterrows():\n",
    "        data_count += 1\n",
    "        \n",
    "        url = url_base + row[\"Image File\"]\n",
    "        dest_loc = dest_dir + row[\"Image File\"]\n",
    "        image_set.add(dest_loc)\n",
    "        if path.isfile(dest_loc):\n",
    "            assert(glob.glob(dest_loc)[0] == dest_loc)\n",
    "            exist_count += 1\n",
    "            continue\n",
    "        filename = wget.download(url)\n",
    "        np_image = cv2.imread(filename)\n",
    "        data_corped = np_image[row[\"Y (top left)\"]:row[\"Y (bottom right)\"],row[\"X (top left)\"]:row[\"X (bottom right)\"],:]\n",
    "        mpimg.imsave(dest_loc, data_corped)\n",
    "        count+=1\n",
    "        if count%100==0:\n",
    "            print(count)\n",
    "    print('total dataset leng', data_count)\n",
    "    print('exist count', exist_count)\n",
    "    print('image_set len', len(image_set))"
   ]
  },
  {
   "cell_type": "code",
   "execution_count": 33,
   "metadata": {
    "scrolled": true
   },
   "outputs": [
    {
     "name": "stdout",
     "output_type": "stream",
     "text": [
      "131131\n"
     ]
    }
   ],
   "source": [
    "#image_downloader(data_X_a_test, url_base, dest_dir=\"../data/X_a/\")\n",
    "print(len(data_X_b_test))"
   ]
  },
  {
   "cell_type": "code",
   "execution_count": 34,
   "metadata": {
    "scrolled": true
   },
   "outputs": [
    {
     "name": "stdout",
     "output_type": "stream",
     "text": [
      "total dataset leng 131131\n",
      "exist count 131131\n",
      "image_set len 127854\n"
     ]
    }
   ],
   "source": [
    "image_downloader(data_X_b_test, url_base, dest_dir=\"../data/X_b/\")"
   ]
  },
  {
   "cell_type": "code",
   "execution_count": 25,
   "metadata": {},
   "outputs": [
    {
     "name": "stdout",
     "output_type": "stream",
     "text": [
      "127854\n"
     ]
    }
   ],
   "source": [
    "#image_downloader(data_X_c_test, url_base, dest_dir=\"../data/X_c/\")\n",
    "import glob\n",
    "print(len(glob.glob('../data/X_b/*')))"
   ]
  },
  {
   "cell_type": "code",
   "execution_count": null,
   "metadata": {},
   "outputs": [],
   "source": []
  },
  {
   "cell_type": "code",
   "execution_count": null,
   "metadata": {},
   "outputs": [],
   "source": [
    "def file_splider(df, dest_loc, orgin_loc):\n",
    "    for index, row in df.iterrows():\n",
    "        if row[\"Sex (subj)\"]==1:\n",
    "            try:\n",
    "                origin_dest = orgin_loc + row[\"Image File\"]\n",
    "                dest_dest = dest_loc+\"Female/\"+ row[\"Image File\"]\n",
    "                shutil.copy(origin_dest, dest_dest)\n",
    "            except:\n",
    "                pass\n",
    "        else:\n",
    "            try:\n",
    "                origin_dest = orgin_loc + row[\"Image File\"]\n",
    "                dest_dest = dest_loc+\"Male/\"+ row[\"Image File\"]\n",
    "                shutil.copy(origin_dest, dest_dest)\n",
    "            except:\n",
    "                pass"
   ]
  },
  {
   "cell_type": "code",
   "execution_count": null,
   "metadata": {},
   "outputs": [],
   "source": [
    "file_splider(data_X_train, \"../data/train/\", \"../data/X_train/\")"
   ]
  },
  {
   "cell_type": "code",
   "execution_count": null,
   "metadata": {},
   "outputs": [],
   "source": [
    "# file_splider(data_X_small_train, \"../data/train/\", \"../data/X_small_train/\")"
   ]
  },
  {
   "cell_type": "code",
   "execution_count": null,
   "metadata": {},
   "outputs": [],
   "source": [
    "# file_splider(data_X_small_test, \"../data/val/\", \"../data/X_small_test/\")"
   ]
  },
  {
   "cell_type": "code",
   "execution_count": null,
   "metadata": {},
   "outputs": [],
   "source": [
    "# file_splider(data_X_small_train, \"../data/train/\", \"../data/X_small_train/\")"
   ]
  }
 ],
 "metadata": {
  "kernelspec": {
   "display_name": "Python 3",
   "language": "python",
   "name": "python3"
  },
  "language_info": {
   "codemirror_mode": {
    "name": "ipython",
    "version": 3
   },
   "file_extension": ".py",
   "mimetype": "text/x-python",
   "name": "python",
   "nbconvert_exporter": "python",
   "pygments_lexer": "ipython3",
   "version": "3.7.9"
  }
 },
 "nbformat": 4,
 "nbformat_minor": 4
}
