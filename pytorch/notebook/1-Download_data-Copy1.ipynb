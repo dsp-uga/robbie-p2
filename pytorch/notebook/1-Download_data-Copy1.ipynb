{
 "cells": [
  {
   "cell_type": "markdown",
   "metadata": {},
   "source": [
    "### Step 1 download all images"
   ]
  },
  {
   "cell_type": "code",
   "execution_count": 1,
   "metadata": {},
   "outputs": [],
   "source": [
    "import pandas as pd\n",
    "import requests\n",
    "import matplotlib.pyplot as plt\n",
    "import matplotlib.image as mpimg\n",
    "from PIL import Image\n",
    "import numpy as np\n",
    "import scipy.misc\n",
    "import matplotlib\n",
    "import shutil"
   ]
  },
  {
   "cell_type": "code",
   "execution_count": 2,
   "metadata": {},
   "outputs": [],
   "source": [
    "data_X_small_train = pd.read_csv(\"../data/X_small_train.csv\")\n",
    "data_X_small_test = pd.read_csv(\"../data/X_small_test.csv\")\n",
    "data_X_train = pd.read_csv(\"../data/X_train.csv\")\n",
    "data_X_a_test = pd.read_csv(\"../data/Xa_test.csv\")\n",
    "data_X_b_test = pd.read_csv(\"../data/Xb_test.csv\")\n",
    "data_X_c_test = pd.read_csv(\"../data/Xc_test.csv\")"
   ]
  },
  {
   "cell_type": "code",
   "execution_count": 3,
   "metadata": {},
   "outputs": [],
   "source": [
    "url_base = \"https://storage.googleapis.com/uga-dsp/project2/images/\""
   ]
  },
  {
   "cell_type": "code",
   "execution_count": 4,
   "metadata": {},
   "outputs": [],
   "source": [
    "def image_downloader(df, url_base, dest_dir):\n",
    "    failed_times = 0 \n",
    "    for index, row in df.iterrows():\n",
    "        try:\n",
    "            url = url_base + row[\"Image File\"]\n",
    "            r = requests.get(url)\n",
    "            dest_loc = dest_dir + row[\"Image File\"]\n",
    "            with open(dest_loc, 'wb') as f:\n",
    "                f.write(r.content)\n",
    "            img = Image.open(dest_loc)\n",
    "            data = np.ascontiguousarray(img)\n",
    "            data_corped = data[row[\"Y (top left)\"]:row[\"Y (bottom right)\"],row[\"X (top left)\"]:row[\"X (bottom right)\"],:]\n",
    "            img = Image.fromarray(data_corped, 'RGB')\n",
    "    #         imgplot = plt.imshow(data_corped)\n",
    "            mpimg.imsave(dest_loc, data_corped)\n",
    "        except:\n",
    "            failed_times += 1\n",
    "    print(failed_times)\n",
    "#         break"
   ]
  },
  {
   "cell_type": "code",
   "execution_count": null,
   "metadata": {},
   "outputs": [],
   "source": [
    "# image_downloader(data_X_small_test, url_base, dest_dir=\"../data/X_small_test/\")"
   ]
  },
  {
   "cell_type": "code",
   "execution_count": 95,
   "metadata": {},
   "outputs": [],
   "source": [
    "# image_downloader(data_X_small_train, url_base, dest_dir=\"../data/X_small_train/\")"
   ]
  },
  {
   "cell_type": "code",
   "execution_count": 7,
   "metadata": {},
   "outputs": [
    {
     "name": "stdout",
     "output_type": "stream",
     "text": [
      "94\n"
     ]
    }
   ],
   "source": [
    "# image_downloader(data_X_train, url_base, dest_dir=\"../data/X_train/\")"
   ]
  },
  {
   "cell_type": "code",
   "execution_count": null,
   "metadata": {},
   "outputs": [],
   "source": [
    "# image_downloader(data_X_a_test, url_base, dest_dir=\"../data/X_a/\")"
   ]
  },
  {
   "cell_type": "code",
   "execution_count": null,
   "metadata": {},
   "outputs": [],
   "source": [
    "image_downloader(data_X_b_test, url_base, dest_dir=\"../data/X_b/\")"
   ]
  },
  {
   "cell_type": "code",
   "execution_count": null,
   "metadata": {},
   "outputs": [],
   "source": [
    "# image_downloader(data_X_c_test, url_base, dest_dir=\"../data/X_c/\")"
   ]
  },
  {
   "cell_type": "code",
   "execution_count": null,
   "metadata": {},
   "outputs": [],
   "source": []
  },
  {
   "cell_type": "code",
   "execution_count": 8,
   "metadata": {},
   "outputs": [],
   "source": [
    "def file_splider(df, dest_loc, orgin_loc):\n",
    "    for index, row in df.iterrows():\n",
    "        if row[\"Sex (subj)\"]==1:\n",
    "            try:\n",
    "                origin_dest = orgin_loc + row[\"Image File\"]\n",
    "                dest_dest = dest_loc+\"Female/\"+ row[\"Image File\"]\n",
    "                shutil.copy(origin_dest, dest_dest)\n",
    "            except:\n",
    "                pass\n",
    "        else:\n",
    "            try:\n",
    "                origin_dest = orgin_loc + row[\"Image File\"]\n",
    "                dest_dest = dest_loc+\"Male/\"+ row[\"Image File\"]\n",
    "                shutil.copy(origin_dest, dest_dest)\n",
    "            except:\n",
    "                pass"
   ]
  },
  {
   "cell_type": "code",
   "execution_count": null,
   "metadata": {},
   "outputs": [],
   "source": [
    "file_splider(data_X_train, \"../data/train/\", \"../data/X_train/\")"
   ]
  },
  {
   "cell_type": "code",
   "execution_count": 9,
   "metadata": {},
   "outputs": [],
   "source": [
    "# file_splider(data_X_small_train, \"../data/train/\", \"../data/X_small_train/\")"
   ]
  },
  {
   "cell_type": "code",
   "execution_count": 10,
   "metadata": {},
   "outputs": [],
   "source": [
    "# file_splider(data_X_small_test, \"../data/val/\", \"../data/X_small_test/\")"
   ]
  },
  {
   "cell_type": "code",
   "execution_count": null,
   "metadata": {},
   "outputs": [],
   "source": [
    "# file_splider(data_X_small_train, \"../data/train/\", \"../data/X_small_train/\")"
   ]
  }
 ],
 "metadata": {
  "kernelspec": {
   "display_name": "Python 3",
   "language": "python",
   "name": "python3"
  },
  "language_info": {
   "codemirror_mode": {
    "name": "ipython",
    "version": 3
   },
   "file_extension": ".py",
   "mimetype": "text/x-python",
   "name": "python",
   "nbconvert_exporter": "python",
   "pygments_lexer": "ipython3",
   "version": "3.7.9"
  }
 },
 "nbformat": 4,
 "nbformat_minor": 4
}
