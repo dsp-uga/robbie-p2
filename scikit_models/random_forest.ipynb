{
 "cells": [
  {
   "cell_type": "code",
   "execution_count": null,
   "metadata": {},
   "outputs": [],
   "source": [
    "import pandas as pd\n",
    "import numpy as np\n",
    "from sklearn import preprocessing\n",
    "from sklearn.linear_model import LogisticRegression\n",
    "from sklearn.model_selection import train_test_split\n",
    "from sklearn import metrics\n",
    "import datetime\n",
    "import os\n",
    "from sklearn.ensemble import RandomForestClassifier\n"
   ]
  },
  {
   "cell_type": "markdown",
   "metadata": {},
   "source": [
    "A function to convert a CSV file to pandas dataframe\n",
    "* In our case, we don't need the first 9 columns as it has the information only about image file."
   ]
  },
  {
   "cell_type": "code",
   "execution_count": null,
   "metadata": {},
   "outputs": [],
   "source": [
    "def csv_to_pandas_dataframe(filename):\n",
    "    data = pd.read_csv(filename,header=0)\n",
    "    data = data.dropna()\n",
    "    data.drop(data.columns[[0,1,2,3,4,5,6,7,8]], axis=1, inplace=True)\n",
    "    return data"
   ]
  },
  {
   "cell_type": "code",
   "execution_count": null,
   "metadata": {},
   "outputs": [],
   "source": [
    "onlyfiles = next(os.walk('./results'))[2] \n",
    "file_count = len(onlyfiles) - 2"
   ]
  },
  {
   "cell_type": "markdown",
   "metadata": {},
   "source": [
    "A function to create tar archive for Auto Grader Submission\n",
    "* It executes bash commands from the jupyter notebook.\n",
    "* TAR achieve will have ya.txt, yb.txt and yc.txt files."
   ]
  },
  {
   "cell_type": "code",
   "execution_count": null,
   "metadata": {},
   "outputs": [],
   "source": [
    "def create_tar_archive():\n",
    "    tar_filename = \"p2_\" + str(file_count) +\".tar\"\n",
    "    print(tar_filename)\n",
    "    !tar cvf ./results/{tar_filename} ./results/y*.txt"
   ]
  },
  {
   "cell_type": "markdown",
   "metadata": {},
   "source": [
    "A function to predict the class label for the dataframe"
   ]
  },
  {
   "cell_type": "code",
   "execution_count": null,
   "metadata": {},
   "outputs": [],
   "source": [
    "def predict_label(X_test):\n",
    "    y_pred=clf.predict(X_test)\n",
    "    return y_pred"
   ]
  },
  {
   "cell_type": "markdown",
   "metadata": {},
   "source": [
    "Writing the predicted class label to the text file"
   ]
  },
  {
   "cell_type": "code",
   "execution_count": null,
   "metadata": {},
   "outputs": [],
   "source": [
    "def list_to_txt(filename,list_name):\n",
    "    with open('results/'+filename, 'w') as f:\n",
    "        for item in list_name:\n",
    "            f.write(\"%s\\n\" % item)"
   ]
  },
  {
   "cell_type": "code",
   "execution_count": null,
   "metadata": {},
   "outputs": [],
   "source": [
    "print(datetime.datetime.now())\n",
    "train_dataframe = csv_to_pandas_dataframe('https://storage.googleapis.com/uga-dsp/project2/files/X_train.csv')\n",
    "print(datetime.datetime.now())"
   ]
  },
  {
   "cell_type": "code",
   "execution_count": null,
   "metadata": {},
   "outputs": [],
   "source": [
    "X_train = train_dataframe.drop('Sex (subj)',axis=1)\n",
    "y_train = train_dataframe['Sex (subj)']"
   ]
  },
  {
   "cell_type": "markdown",
   "metadata": {},
   "source": [
    "We are using built-in Random Forest Classifier \n",
    "* We fit X_train and y_train dataframe to the model"
   ]
  },
  {
   "cell_type": "code",
   "execution_count": null,
   "metadata": {},
   "outputs": [],
   "source": [
    "print(datetime.datetime.now())\n",
    "clf=RandomForestClassifier(n_estimators=100)\n",
    "clf.fit(X_train,y_train)\n",
    "print(datetime.datetime.now())"
   ]
  },
  {
   "cell_type": "markdown",
   "metadata": {},
   "source": [
    "Creating a dataframe from CSV file\n",
    "* Xa_test dataframe from Xa_test.csv\n",
    "* Xb_test dataframe from Xb_test.csv\n",
    "* Xc_test dataframe from Xc_test.csv"
   ]
  },
  {
   "cell_type": "code",
   "execution_count": null,
   "metadata": {},
   "outputs": [],
   "source": [
    "print(datetime.datetime.now())\n",
    "Xa_test = csv_to_pandas_dataframe('https://storage.googleapis.com/uga-dsp/project2/files/Xa_test.csv')\n",
    "print(datetime.datetime.now())\n"
   ]
  },
  {
   "cell_type": "code",
   "execution_count": null,
   "metadata": {},
   "outputs": [],
   "source": [
    "print(datetime.datetime.now())\n",
    "Xb_test = csv_to_pandas_dataframe('https://storage.googleapis.com/uga-dsp/project2/files/Xb_test.csv')\n",
    "print(datetime.datetime.now())"
   ]
  },
  {
   "cell_type": "code",
   "execution_count": null,
   "metadata": {},
   "outputs": [],
   "source": [
    "print(datetime.datetime.now())\n",
    "Xc_test = csv_to_pandas_dataframe('https://storage.googleapis.com/uga-dsp/project2/files/Xc_test.csv')\n",
    "print(datetime.datetime.now())"
   ]
  },
  {
   "cell_type": "markdown",
   "metadata": {},
   "source": [
    "Predicting the class label from test dataframe\n",
    "* ya_pred dataframe from Xa_test\n",
    "* yb_pred dataframe from Xb_test\n",
    "* yc_pred dataframe from Xc_test"
   ]
  },
  {
   "cell_type": "code",
   "execution_count": null,
   "metadata": {},
   "outputs": [],
   "source": [
    "ya_pred = predict_label(Xa_test);\n",
    "ya_pred_list = ya_pred.tolist()\n",
    "list_to_txt('ya.txt',ya_pred_list)"
   ]
  },
  {
   "cell_type": "code",
   "execution_count": null,
   "metadata": {},
   "outputs": [],
   "source": [
    "yb_pred = predict_label(Xb_test);\n",
    "yb_pred_list = yb_pred.tolist()\n",
    "list_to_txt('yb.txt',yb_pred_list)"
   ]
  },
  {
   "cell_type": "code",
   "execution_count": null,
   "metadata": {},
   "outputs": [],
   "source": [
    "yc_pred = predict_label(Xc_test);\n",
    "yc_pred_list = yc_pred.tolist()\n",
    "list_to_txt('yc.txt',yc_pred_list)"
   ]
  },
  {
   "cell_type": "markdown",
   "metadata": {},
   "source": [
    "Creating TAR archive from saved predicted text files"
   ]
  },
  {
   "cell_type": "code",
   "execution_count": null,
   "metadata": {},
   "outputs": [],
   "source": [
    "create_tar_archive()"
   ]
  }
 ],
 "metadata": {
  "kernelspec": {
   "display_name": "Python 3",
   "language": "python",
   "name": "python3"
  },
  "language_info": {
   "codemirror_mode": {
    "name": "ipython",
    "version": 3
   },
   "file_extension": ".py",
   "mimetype": "text/x-python",
   "name": "python",
   "nbconvert_exporter": "python",
   "pygments_lexer": "ipython3",
   "version": "3.8.5"
  }
 },
 "nbformat": 4,
 "nbformat_minor": 4
}
