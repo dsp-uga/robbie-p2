{
 "cells": [
  {
   "cell_type": "markdown",
   "metadata": {},
   "source": [
    "### Step 1 download all images"
   ]
  },
  {
   "cell_type": "code",
   "execution_count": 1,
   "metadata": {},
   "outputs": [],
   "source": [
    "import pandas as pd\n",
    "import requests\n",
    "import matplotlib.pyplot as plt\n",
    "import matplotlib.image as mpimg\n",
    "from PIL import Image\n",
    "import numpy as np\n",
    "import scipy.misc\n",
    "import matplotlib\n",
    "import shutil\n",
    "import cv2, wget"
   ]
  },
  {
   "cell_type": "code",
   "execution_count": 2,
   "metadata": {},
   "outputs": [],
   "source": [
    "# data_X_small_train = pd.read_csv(\"../data/X_small_train.csv\")\n",
    "# data_X_small_test = pd.read_csv(\"../data/X_small_test.csv\")\n",
    "# data_X_train = pd.read_csv(\"../data/X_train.csv\")\n",
    "# data_X_a_test = pd.read_csv(\"../data/Xa_test.csv\")\n",
    "# data_X_b_test = pd.read_csv(\"../data/Xb_test.csv\")\n",
    "data_X_c_test = pd.read_csv(\"../data/Xc_test.csv\")"
   ]
  },
  {
   "cell_type": "code",
   "execution_count": 3,
   "metadata": {},
   "outputs": [],
   "source": [
    "url_base = \"https://storage.googleapis.com/uga-dsp/project2/images/\""
   ]
  },
  {
   "cell_type": "code",
   "execution_count": 19,
   "metadata": {},
   "outputs": [],
   "source": [
    "import sys\n",
    "from os import path\n",
    "def image_downloader(df, url_base, dest_dir):\n",
    "    failed_times = 0 \n",
    "    count = 0\n",
    "    for index, row in df.iterrows():\n",
    "#         try:\n",
    "        url = url_base + row[\"Image File\"]\n",
    "        dest_loc = dest_dir + row[\"Image File\"]\n",
    "        if path.exists(dest_loc):\n",
    "            continue\n",
    "        filename = wget.download(url)\n",
    "        np_image = cv2.imread(filename)\n",
    "        data_corped = np_image[row[\"Y (top left)\"]:row[\"Y (bottom right)\"],row[\"X (top left)\"]:row[\"X (bottom right)\"],:]\n",
    "        try:\n",
    "            mpimg.imsave(dest_loc, data_corped)\n",
    "        except:\n",
    "            mpimg.imsave(dest_loc, np_image)\n",
    "        count+=1\n",
    "        if count%100==0:\n",
    "            print(count)\n",
    "#         except:\n",
    "#             failed_times += 1\n",
    "#     print(failed_times)\n",
    "#         break"
   ]
  },
  {
   "cell_type": "code",
   "execution_count": 20,
   "metadata": {},
   "outputs": [],
   "source": [
    "# image_downloader(data_X_a_test, url_base, dest_dir=\"../data/X_a/\")"
   ]
  },
  {
   "cell_type": "code",
   "execution_count": 21,
   "metadata": {},
   "outputs": [],
   "source": [
    "# image_downloader(data_X_b_test, url_base, dest_dir=\"../data/X_b/\")"
   ]
  },
  {
   "cell_type": "code",
   "execution_count": 22,
   "metadata": {},
   "outputs": [
    {
     "name": "stdout",
     "output_type": "stream",
     "text": [
      "100\n",
      "200\n",
      "300\n",
      "400\n",
      "500\n",
      "600\n",
      "700\n",
      "800\n",
      "900\n",
      "1000\n",
      "1100\n",
      "1200\n",
      "1300\n",
      "1400\n",
      "1500\n",
      "1600\n",
      "1700\n",
      "1800\n",
      "1900\n",
      "2000\n",
      "2100\n",
      "2200\n",
      "2300\n",
      "2400\n",
      "2500\n",
      "2600\n",
      "2700\n",
      "2800\n",
      "2900\n",
      "3000\n",
      "3100\n",
      "3200\n",
      "3300\n",
      "3400\n",
      "3500\n",
      "3600\n",
      "3700\n",
      "3800\n",
      "3900\n",
      "4000\n",
      "4100\n",
      "4200\n",
      "4300\n",
      "4400\n",
      "4500\n",
      "4600\n",
      "4700\n",
      "4800\n",
      "4900\n",
      "5000\n",
      "5100\n",
      "5200\n",
      "5300\n",
      "5400\n",
      "5500\n",
      "5600\n",
      "5700\n",
      "5800\n",
      "5900\n",
      "6000\n",
      "6100\n",
      "6200\n",
      "6300\n",
      "6400\n",
      "6500\n",
      "6600\n",
      "6700\n",
      "6800\n",
      "6900\n",
      "7000\n",
      "7100\n",
      "7200\n",
      "7300\n",
      "7400\n",
      "7500\n",
      "7600\n",
      "7700\n",
      "7800\n",
      "7900\n",
      "8000\n",
      "8100\n",
      "8200\n",
      "8300\n",
      "8400\n",
      "8500\n",
      "8600\n",
      "8700\n",
      "8800\n",
      "8900\n",
      "9000\n",
      "9100\n",
      "9200\n",
      "9300\n",
      "9400\n",
      "9500\n",
      "9600\n",
      "9700\n",
      "9800\n",
      "9900\n",
      "10000\n",
      "10100\n",
      "10200\n",
      "10300\n",
      "10400\n",
      "10500\n",
      "10600\n",
      "10700\n",
      "10800\n",
      "10900\n",
      "11000\n",
      "11100\n",
      "11200\n",
      "11300\n",
      "11400\n",
      "11500\n",
      "11600\n",
      "11700\n",
      "11800\n",
      "11900\n",
      "12000\n",
      "12100\n",
      "12200\n",
      "12300\n",
      "12400\n",
      "12500\n",
      "12600\n",
      "12700\n",
      "12800\n",
      "12900\n",
      "13000\n",
      "13100\n",
      "13200\n",
      "13300\n",
      "13400\n",
      "13500\n",
      "13600\n",
      "13700\n",
      "13800\n",
      "13900\n",
      "14000\n",
      "14100\n",
      "14200\n",
      "14300\n",
      "14400\n",
      "14500\n",
      "14600\n",
      "14700\n",
      "14800\n",
      "14900\n",
      "15000\n",
      "15100\n",
      "15200\n",
      "15300\n",
      "15400\n",
      "15500\n",
      "15600\n",
      "15700\n"
     ]
    }
   ],
   "source": [
    "image_downloader(data_X_c_test, url_base, dest_dir=\"../data/X_c/\")"
   ]
  },
  {
   "cell_type": "code",
   "execution_count": null,
   "metadata": {},
   "outputs": [],
   "source": []
  },
  {
   "cell_type": "code",
   "execution_count": 8,
   "metadata": {},
   "outputs": [],
   "source": [
    "def file_splider(df, dest_loc, orgin_loc):\n",
    "    for index, row in df.iterrows():\n",
    "        if row[\"Sex (subj)\"]==1:\n",
    "            try:\n",
    "                origin_dest = orgin_loc + row[\"Image File\"]\n",
    "                dest_dest = dest_loc+\"Female/\"+ row[\"Image File\"]\n",
    "                shutil.copy(origin_dest, dest_dest)\n",
    "            except:\n",
    "                pass\n",
    "        else:\n",
    "            try:\n",
    "                origin_dest = orgin_loc + row[\"Image File\"]\n",
    "                dest_dest = dest_loc+\"Male/\"+ row[\"Image File\"]\n",
    "                shutil.copy(origin_dest, dest_dest)\n",
    "            except:\n",
    "                pass"
   ]
  },
  {
   "cell_type": "code",
   "execution_count": null,
   "metadata": {},
   "outputs": [],
   "source": [
    "file_splider(data_X_train, \"../data/train/\", \"../data/X_train/\")"
   ]
  },
  {
   "cell_type": "code",
   "execution_count": 9,
   "metadata": {},
   "outputs": [],
   "source": [
    "# file_splider(data_X_small_train, \"../data/train/\", \"../data/X_small_train/\")"
   ]
  },
  {
   "cell_type": "code",
   "execution_count": 10,
   "metadata": {},
   "outputs": [],
   "source": [
    "# file_splider(data_X_small_test, \"../data/val/\", \"../data/X_small_test/\")"
   ]
  },
  {
   "cell_type": "code",
   "execution_count": null,
   "metadata": {},
   "outputs": [],
   "source": [
    "# file_splider(data_X_small_train, \"../data/train/\", \"../data/X_small_train/\")"
   ]
  }
 ],
 "metadata": {
  "kernelspec": {
   "display_name": "Python 3",
   "language": "python",
   "name": "python3"
  },
  "language_info": {
   "codemirror_mode": {
    "name": "ipython",
    "version": 3
   },
   "file_extension": ".py",
   "mimetype": "text/x-python",
   "name": "python",
   "nbconvert_exporter": "python",
   "pygments_lexer": "ipython3",
   "version": "3.7.9"
  }
 },
 "nbformat": 4,
 "nbformat_minor": 4
}
